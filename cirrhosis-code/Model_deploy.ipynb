{
 "cells": [
  {
   "cell_type": "code",
   "execution_count": 3,
   "id": "522c416d",
   "metadata": {},
   "outputs": [],
   "source": [
    "import numpy as np\n",
    "import pandas as pd\n",
    "import sys\n",
    "from catboost import CatBoostClassifier, CatBoostRegressor\n",
    "from imblearn.over_sampling import RandomOverSampler\n",
    "import lightgbm as lgb\n",
    "import matplotlib.pyplot as plt\n",
    "import numpy as np\n",
    "import optuna\n",
    "import pandas as pd\n",
    "import plotly.express as px\n",
    "import seaborn as sns\n",
    "from sklearn.base import BaseEstimator, ClassifierMixin, TransformerMixin\n",
    "from sklearn.decomposition import PCA\n",
    "from sklearn.ensemble import RandomForestClassifier\n",
    "from sklearn.ensemble import VotingClassifier\n",
    "from sklearn.linear_model import LogisticRegression\n",
    "from sklearn.manifold import TSNE\n",
    "from sklearn.metrics import confusion_matrix, ConfusionMatrixDisplay\n",
    "from sklearn.metrics import log_loss\n",
    "from sklearn.metrics import make_scorer, mean_squared_error\n",
    "from sklearn.model_selection import GridSearchCV\n",
    "from sklearn.model_selection import cross_val_score, KFold, StratifiedKFold, GroupKFold, RepeatedStratifiedKFold\n",
    "from sklearn.model_selection import train_test_split\n",
    "from sklearn.naive_bayes import MultinomialNB, CategoricalNB, GaussianNB\n",
    "from sklearn.neighbors import KNeighborsClassifier\n",
    "from sklearn.pipeline import make_pipeline, Pipeline\n",
    "from sklearn.preprocessing import LabelEncoder, OrdinalEncoder, OneHotEncoder\n",
    "from sklearn.preprocessing import StandardScaler\n",
    "from sklearn.svm import SVC\n",
    "from sklearn.tree import DecisionTreeClassifier\n",
    "from tqdm import tqdm\n",
    "import xgboost as xgb\n",
    "from xgboost import plot_importance\n",
    "from sklearn.metrics import classification_report, accuracy_score, ConfusionMatrixDisplay\n",
    "from sklearn.model_selection import validation_curve, learning_curve\n",
    "from sklearn.model_selection import LearningCurveDisplay\n",
    "import pickle\n",
    "\n",
    "data_path = \"/Users/weitongxuedemacbookpro/My-cirrhosis-project-deployment/cirrhosis-end-to-end/cirrhosis-data/\""
   ]
  },
  {
   "cell_type": "code",
   "execution_count": 4,
   "id": "e25a3e05",
   "metadata": {},
   "outputs": [
    {
     "data": {
      "text/html": [
       "<div>\n",
       "<style scoped>\n",
       "    .dataframe tbody tr th:only-of-type {\n",
       "        vertical-align: middle;\n",
       "    }\n",
       "\n",
       "    .dataframe tbody tr th {\n",
       "        vertical-align: top;\n",
       "    }\n",
       "\n",
       "    .dataframe thead th {\n",
       "        text-align: right;\n",
       "    }\n",
       "</style>\n",
       "<table border=\"1\" class=\"dataframe\">\n",
       "  <thead>\n",
       "    <tr style=\"text-align: right;\">\n",
       "      <th></th>\n",
       "      <th>N_Days</th>\n",
       "      <th>Drug</th>\n",
       "      <th>Age</th>\n",
       "      <th>Sex</th>\n",
       "      <th>Ascites</th>\n",
       "      <th>Hepatomegaly</th>\n",
       "      <th>Spiders</th>\n",
       "      <th>Bilirubin</th>\n",
       "      <th>Cholesterol</th>\n",
       "      <th>Albumin</th>\n",
       "      <th>...</th>\n",
       "      <th>Symptom_Score_111010</th>\n",
       "      <th>Symptom_Score_111100</th>\n",
       "      <th>Liver_Function_Index</th>\n",
       "      <th>Risk_Score</th>\n",
       "      <th>Diag_Year</th>\n",
       "      <th>Diag_Month</th>\n",
       "      <th>PCA_0</th>\n",
       "      <th>PCA_1</th>\n",
       "      <th>PCA_2</th>\n",
       "      <th>PCA_3</th>\n",
       "    </tr>\n",
       "  </thead>\n",
       "  <tbody>\n",
       "    <tr>\n",
       "      <th>0</th>\n",
       "      <td>999</td>\n",
       "      <td>1</td>\n",
       "      <td>21532</td>\n",
       "      <td>1</td>\n",
       "      <td>0</td>\n",
       "      <td>0</td>\n",
       "      <td>0</td>\n",
       "      <td>2.3</td>\n",
       "      <td>316.0</td>\n",
       "      <td>3.35</td>\n",
       "      <td>...</td>\n",
       "      <td>0</td>\n",
       "      <td>0</td>\n",
       "      <td>446.6125</td>\n",
       "      <td>-1595.35</td>\n",
       "      <td>2</td>\n",
       "      <td>8</td>\n",
       "      <td>3187.797358</td>\n",
       "      <td>-243.363648</td>\n",
       "      <td>-936.819898</td>\n",
       "      <td>-14.715766</td>\n",
       "    </tr>\n",
       "    <tr>\n",
       "      <th>1</th>\n",
       "      <td>2574</td>\n",
       "      <td>0</td>\n",
       "      <td>19237</td>\n",
       "      <td>0</td>\n",
       "      <td>0</td>\n",
       "      <td>0</td>\n",
       "      <td>0</td>\n",
       "      <td>0.9</td>\n",
       "      <td>364.0</td>\n",
       "      <td>3.54</td>\n",
       "      <td>...</td>\n",
       "      <td>0</td>\n",
       "      <td>0</td>\n",
       "      <td>394.8225</td>\n",
       "      <td>-1435.56</td>\n",
       "      <td>7</td>\n",
       "      <td>0</td>\n",
       "      <td>837.568664</td>\n",
       "      <td>-372.260271</td>\n",
       "      <td>557.758103</td>\n",
       "      <td>50.423388</td>\n",
       "    </tr>\n",
       "    <tr>\n",
       "      <th>2</th>\n",
       "      <td>3428</td>\n",
       "      <td>0</td>\n",
       "      <td>13727</td>\n",
       "      <td>0</td>\n",
       "      <td>0</td>\n",
       "      <td>1</td>\n",
       "      <td>1</td>\n",
       "      <td>3.3</td>\n",
       "      <td>299.0</td>\n",
       "      <td>3.55</td>\n",
       "      <td>...</td>\n",
       "      <td>0</td>\n",
       "      <td>0</td>\n",
       "      <td>288.8000</td>\n",
       "      <td>-1022.15</td>\n",
       "      <td>9</td>\n",
       "      <td>4</td>\n",
       "      <td>-4705.145822</td>\n",
       "      <td>-673.189927</td>\n",
       "      <td>1218.950873</td>\n",
       "      <td>-19.809820</td>\n",
       "    </tr>\n",
       "    <tr>\n",
       "      <th>3</th>\n",
       "      <td>2576</td>\n",
       "      <td>0</td>\n",
       "      <td>18460</td>\n",
       "      <td>0</td>\n",
       "      <td>0</td>\n",
       "      <td>0</td>\n",
       "      <td>0</td>\n",
       "      <td>0.6</td>\n",
       "      <td>256.0</td>\n",
       "      <td>3.50</td>\n",
       "      <td>...</td>\n",
       "      <td>0</td>\n",
       "      <td>0</td>\n",
       "      <td>432.1000</td>\n",
       "      <td>-1648.90</td>\n",
       "      <td>7</td>\n",
       "      <td>0</td>\n",
       "      <td>66.157624</td>\n",
       "      <td>-144.111216</td>\n",
       "      <td>538.278105</td>\n",
       "      <td>-75.057600</td>\n",
       "    </tr>\n",
       "    <tr>\n",
       "      <th>4</th>\n",
       "      <td>788</td>\n",
       "      <td>0</td>\n",
       "      <td>16658</td>\n",
       "      <td>0</td>\n",
       "      <td>0</td>\n",
       "      <td>1</td>\n",
       "      <td>0</td>\n",
       "      <td>1.1</td>\n",
       "      <td>346.0</td>\n",
       "      <td>3.65</td>\n",
       "      <td>...</td>\n",
       "      <td>0</td>\n",
       "      <td>0</td>\n",
       "      <td>327.8250</td>\n",
       "      <td>-1176.25</td>\n",
       "      <td>2</td>\n",
       "      <td>1</td>\n",
       "      <td>-1684.137676</td>\n",
       "      <td>-554.505946</td>\n",
       "      <td>-1316.469566</td>\n",
       "      <td>-20.806744</td>\n",
       "    </tr>\n",
       "  </tbody>\n",
       "</table>\n",
       "<p>5 rows × 59 columns</p>\n",
       "</div>"
      ],
      "text/plain": [
       "   N_Days  Drug    Age  Sex  Ascites  Hepatomegaly  Spiders  Bilirubin  \\\n",
       "0     999     1  21532    1        0             0        0        2.3   \n",
       "1    2574     0  19237    0        0             0        0        0.9   \n",
       "2    3428     0  13727    0        0             1        1        3.3   \n",
       "3    2576     0  18460    0        0             0        0        0.6   \n",
       "4     788     0  16658    0        0             1        0        1.1   \n",
       "\n",
       "   Cholesterol  Albumin  ...  Symptom_Score_111010  Symptom_Score_111100  \\\n",
       "0        316.0     3.35  ...                     0                     0   \n",
       "1        364.0     3.54  ...                     0                     0   \n",
       "2        299.0     3.55  ...                     0                     0   \n",
       "3        256.0     3.50  ...                     0                     0   \n",
       "4        346.0     3.65  ...                     0                     0   \n",
       "\n",
       "   Liver_Function_Index  Risk_Score  Diag_Year  Diag_Month        PCA_0  \\\n",
       "0              446.6125    -1595.35          2           8  3187.797358   \n",
       "1              394.8225    -1435.56          7           0   837.568664   \n",
       "2              288.8000    -1022.15          9           4 -4705.145822   \n",
       "3              432.1000    -1648.90          7           0    66.157624   \n",
       "4              327.8250    -1176.25          2           1 -1684.137676   \n",
       "\n",
       "        PCA_1        PCA_2      PCA_3  \n",
       "0 -243.363648  -936.819898 -14.715766  \n",
       "1 -372.260271   557.758103  50.423388  \n",
       "2 -673.189927  1218.950873 -19.809820  \n",
       "3 -144.111216   538.278105 -75.057600  \n",
       "4 -554.505946 -1316.469566 -20.806744  \n",
       "\n",
       "[5 rows x 59 columns]"
      ]
     },
     "execution_count": 4,
     "metadata": {},
     "output_type": "execute_result"
    }
   ],
   "source": [
    "df_train = pd.read_csv(data_path + \"train_mod_v24.csv\", index_col=0)\n",
    "df_test = pd.read_csv(data_path + \"test_mod_v24.csv\", index_col=0)\n",
    "df_train.head()"
   ]
  },
  {
   "cell_type": "code",
   "execution_count": null,
   "id": "f04f5829",
   "metadata": {},
   "outputs": [],
   "source": [
    "# df_train.info()"
   ]
  },
  {
   "cell_type": "code",
   "execution_count": 5,
   "id": "b7dfd767",
   "metadata": {},
   "outputs": [
    {
     "name": "stdout",
     "output_type": "stream",
     "text": [
      "Number of feats: 21\n",
      "Features used: ['Platelets', 'Copper', 'Alk_Phos', 'Diagnosis_Date', 'SGOT', 'Age', 'N_Days', 'Cholesterol', 'Tryglicerides', 'Albumin', 'Bilirubin', 'Prothrombin', 'Symptom_Score', 'Stage', 'Drug', 'Hepatomegaly', 'Spiders', 'Sex', 'Edema_N', 'Edema_S', 'Edema_Y']\n"
     ]
    }
   ],
   "source": [
    "FEATS = ['Platelets', 'Copper', 'Alk_Phos', 'Diagnosis_Date', 'SGOT', 'Age', 'N_Days', 'Cholesterol', \n",
    "         'Tryglicerides', 'Albumin', 'Bilirubin', 'Prothrombin', 'Symptom_Score', 'Stage', 'Drug', \n",
    "         'Hepatomegaly', 'Spiders', 'Sex', 'Edema_N', 'Edema_S', 'Edema_Y']\n",
    "\n",
    "LABEL = 'Status'\n",
    "# FEATS = FEATS + pca_c_names\n",
    "# FEATS = sel_feats.tolist()\n",
    "print(f\"Number of feats: {len(FEATS)}\")\n",
    "print(f\"Features used: {FEATS}\")"
   ]
  },
  {
   "cell_type": "code",
   "execution_count": 6,
   "id": "c5c5a336",
   "metadata": {},
   "outputs": [],
   "source": [
    "df_train_final = df_train[FEATS+ [LABEL]]\n",
    "df_test_final = df_test[FEATS]"
   ]
  },
  {
   "cell_type": "code",
   "execution_count": 7,
   "id": "c39b7b63",
   "metadata": {},
   "outputs": [
    {
     "data": {
      "text/html": [
       "<div>\n",
       "<style scoped>\n",
       "    .dataframe tbody tr th:only-of-type {\n",
       "        vertical-align: middle;\n",
       "    }\n",
       "\n",
       "    .dataframe tbody tr th {\n",
       "        vertical-align: top;\n",
       "    }\n",
       "\n",
       "    .dataframe thead th {\n",
       "        text-align: right;\n",
       "    }\n",
       "</style>\n",
       "<table border=\"1\" class=\"dataframe\">\n",
       "  <thead>\n",
       "    <tr style=\"text-align: right;\">\n",
       "      <th></th>\n",
       "      <th>Platelets</th>\n",
       "      <th>Copper</th>\n",
       "      <th>Alk_Phos</th>\n",
       "      <th>Diagnosis_Date</th>\n",
       "      <th>SGOT</th>\n",
       "      <th>Age</th>\n",
       "      <th>N_Days</th>\n",
       "      <th>Cholesterol</th>\n",
       "      <th>Tryglicerides</th>\n",
       "      <th>Albumin</th>\n",
       "      <th>...</th>\n",
       "      <th>Symptom_Score</th>\n",
       "      <th>Stage</th>\n",
       "      <th>Drug</th>\n",
       "      <th>Hepatomegaly</th>\n",
       "      <th>Spiders</th>\n",
       "      <th>Sex</th>\n",
       "      <th>Edema_N</th>\n",
       "      <th>Edema_S</th>\n",
       "      <th>Edema_Y</th>\n",
       "      <th>Status</th>\n",
       "    </tr>\n",
       "  </thead>\n",
       "  <tbody>\n",
       "    <tr>\n",
       "      <th>0</th>\n",
       "      <td>394.0</td>\n",
       "      <td>172.0</td>\n",
       "      <td>1601.0</td>\n",
       "      <td>20533</td>\n",
       "      <td>179.80</td>\n",
       "      <td>21532</td>\n",
       "      <td>999</td>\n",
       "      <td>316.0</td>\n",
       "      <td>63.0</td>\n",
       "      <td>3.35</td>\n",
       "      <td>...</td>\n",
       "      <td>1</td>\n",
       "      <td>2</td>\n",
       "      <td>1</td>\n",
       "      <td>0</td>\n",
       "      <td>0</td>\n",
       "      <td>1</td>\n",
       "      <td>1</td>\n",
       "      <td>0</td>\n",
       "      <td>0</td>\n",
       "      <td>2</td>\n",
       "    </tr>\n",
       "    <tr>\n",
       "      <th>1</th>\n",
       "      <td>361.0</td>\n",
       "      <td>63.0</td>\n",
       "      <td>1440.0</td>\n",
       "      <td>16663</td>\n",
       "      <td>134.85</td>\n",
       "      <td>19237</td>\n",
       "      <td>2574</td>\n",
       "      <td>364.0</td>\n",
       "      <td>88.0</td>\n",
       "      <td>3.54</td>\n",
       "      <td>...</td>\n",
       "      <td>1</td>\n",
       "      <td>2</td>\n",
       "      <td>0</td>\n",
       "      <td>0</td>\n",
       "      <td>0</td>\n",
       "      <td>0</td>\n",
       "      <td>1</td>\n",
       "      <td>0</td>\n",
       "      <td>0</td>\n",
       "      <td>0</td>\n",
       "    </tr>\n",
       "    <tr>\n",
       "      <th>2</th>\n",
       "      <td>199.0</td>\n",
       "      <td>131.0</td>\n",
       "      <td>1029.0</td>\n",
       "      <td>10299</td>\n",
       "      <td>119.35</td>\n",
       "      <td>13727</td>\n",
       "      <td>3428</td>\n",
       "      <td>299.0</td>\n",
       "      <td>50.0</td>\n",
       "      <td>3.55</td>\n",
       "      <td>...</td>\n",
       "      <td>3</td>\n",
       "      <td>3</td>\n",
       "      <td>0</td>\n",
       "      <td>1</td>\n",
       "      <td>1</td>\n",
       "      <td>0</td>\n",
       "      <td>0</td>\n",
       "      <td>0</td>\n",
       "      <td>1</td>\n",
       "      <td>2</td>\n",
       "    </tr>\n",
       "    <tr>\n",
       "      <th>3</th>\n",
       "      <td>269.0</td>\n",
       "      <td>58.0</td>\n",
       "      <td>1653.0</td>\n",
       "      <td>15884</td>\n",
       "      <td>71.30</td>\n",
       "      <td>18460</td>\n",
       "      <td>2576</td>\n",
       "      <td>256.0</td>\n",
       "      <td>96.0</td>\n",
       "      <td>3.50</td>\n",
       "      <td>...</td>\n",
       "      <td>1</td>\n",
       "      <td>2</td>\n",
       "      <td>0</td>\n",
       "      <td>0</td>\n",
       "      <td>0</td>\n",
       "      <td>0</td>\n",
       "      <td>1</td>\n",
       "      <td>0</td>\n",
       "      <td>0</td>\n",
       "      <td>0</td>\n",
       "    </tr>\n",
       "    <tr>\n",
       "      <th>4</th>\n",
       "      <td>298.0</td>\n",
       "      <td>63.0</td>\n",
       "      <td>1181.0</td>\n",
       "      <td>15870</td>\n",
       "      <td>125.55</td>\n",
       "      <td>16658</td>\n",
       "      <td>788</td>\n",
       "      <td>346.0</td>\n",
       "      <td>96.0</td>\n",
       "      <td>3.65</td>\n",
       "      <td>...</td>\n",
       "      <td>2</td>\n",
       "      <td>3</td>\n",
       "      <td>0</td>\n",
       "      <td>1</td>\n",
       "      <td>0</td>\n",
       "      <td>0</td>\n",
       "      <td>1</td>\n",
       "      <td>0</td>\n",
       "      <td>0</td>\n",
       "      <td>0</td>\n",
       "    </tr>\n",
       "    <tr>\n",
       "      <th>...</th>\n",
       "      <td>...</td>\n",
       "      <td>...</td>\n",
       "      <td>...</td>\n",
       "      <td>...</td>\n",
       "      <td>...</td>\n",
       "      <td>...</td>\n",
       "      <td>...</td>\n",
       "      <td>...</td>\n",
       "      <td>...</td>\n",
       "      <td>...</td>\n",
       "      <td>...</td>\n",
       "      <td>...</td>\n",
       "      <td>...</td>\n",
       "      <td>...</td>\n",
       "      <td>...</td>\n",
       "      <td>...</td>\n",
       "      <td>...</td>\n",
       "      <td>...</td>\n",
       "      <td>...</td>\n",
       "      <td>...</td>\n",
       "      <td>...</td>\n",
       "    </tr>\n",
       "    <tr>\n",
       "      <th>8057</th>\n",
       "      <td>288.0</td>\n",
       "      <td>24.0</td>\n",
       "      <td>797.0</td>\n",
       "      <td>21194</td>\n",
       "      <td>91.00</td>\n",
       "      <td>22347</td>\n",
       "      <td>1153</td>\n",
       "      <td>246.0</td>\n",
       "      <td>113.0</td>\n",
       "      <td>3.58</td>\n",
       "      <td>...</td>\n",
       "      <td>2</td>\n",
       "      <td>1</td>\n",
       "      <td>1</td>\n",
       "      <td>1</td>\n",
       "      <td>0</td>\n",
       "      <td>0</td>\n",
       "      <td>1</td>\n",
       "      <td>0</td>\n",
       "      <td>0</td>\n",
       "      <td>0</td>\n",
       "    </tr>\n",
       "    <tr>\n",
       "      <th>8058</th>\n",
       "      <td>231.0</td>\n",
       "      <td>41.0</td>\n",
       "      <td>1166.0</td>\n",
       "      <td>20300</td>\n",
       "      <td>70.00</td>\n",
       "      <td>21294</td>\n",
       "      <td>994</td>\n",
       "      <td>260.0</td>\n",
       "      <td>82.0</td>\n",
       "      <td>2.75</td>\n",
       "      <td>...</td>\n",
       "      <td>1</td>\n",
       "      <td>1</td>\n",
       "      <td>0</td>\n",
       "      <td>0</td>\n",
       "      <td>0</td>\n",
       "      <td>0</td>\n",
       "      <td>1</td>\n",
       "      <td>0</td>\n",
       "      <td>0</td>\n",
       "      <td>0</td>\n",
       "    </tr>\n",
       "    <tr>\n",
       "      <th>8059</th>\n",
       "      <td>234.0</td>\n",
       "      <td>39.0</td>\n",
       "      <td>1713.0</td>\n",
       "      <td>21828</td>\n",
       "      <td>171.00</td>\n",
       "      <td>22767</td>\n",
       "      <td>939</td>\n",
       "      <td>434.0</td>\n",
       "      <td>100.0</td>\n",
       "      <td>3.35</td>\n",
       "      <td>...</td>\n",
       "      <td>1</td>\n",
       "      <td>1</td>\n",
       "      <td>1</td>\n",
       "      <td>0</td>\n",
       "      <td>0</td>\n",
       "      <td>0</td>\n",
       "      <td>1</td>\n",
       "      <td>0</td>\n",
       "      <td>0</td>\n",
       "      <td>0</td>\n",
       "    </tr>\n",
       "    <tr>\n",
       "      <th>8060</th>\n",
       "      <td>335.0</td>\n",
       "      <td>69.0</td>\n",
       "      <td>1050.0</td>\n",
       "      <td>13040</td>\n",
       "      <td>117.00</td>\n",
       "      <td>13879</td>\n",
       "      <td>839</td>\n",
       "      <td>247.0</td>\n",
       "      <td>88.0</td>\n",
       "      <td>3.16</td>\n",
       "      <td>...</td>\n",
       "      <td>1</td>\n",
       "      <td>1</td>\n",
       "      <td>1</td>\n",
       "      <td>0</td>\n",
       "      <td>0</td>\n",
       "      <td>0</td>\n",
       "      <td>1</td>\n",
       "      <td>0</td>\n",
       "      <td>0</td>\n",
       "      <td>0</td>\n",
       "    </tr>\n",
       "    <tr>\n",
       "      <th>8061</th>\n",
       "      <td>200.0</td>\n",
       "      <td>186.0</td>\n",
       "      <td>2115.0</td>\n",
       "      <td>11321</td>\n",
       "      <td>136.00</td>\n",
       "      <td>12109</td>\n",
       "      <td>788</td>\n",
       "      <td>576.0</td>\n",
       "      <td>149.0</td>\n",
       "      <td>3.79</td>\n",
       "      <td>...</td>\n",
       "      <td>2</td>\n",
       "      <td>1</td>\n",
       "      <td>0</td>\n",
       "      <td>0</td>\n",
       "      <td>1</td>\n",
       "      <td>0</td>\n",
       "      <td>1</td>\n",
       "      <td>0</td>\n",
       "      <td>0</td>\n",
       "      <td>0</td>\n",
       "    </tr>\n",
       "  </tbody>\n",
       "</table>\n",
       "<p>8062 rows × 22 columns</p>\n",
       "</div>"
      ],
      "text/plain": [
       "      Platelets  Copper  Alk_Phos  Diagnosis_Date    SGOT    Age  N_Days  \\\n",
       "0         394.0   172.0    1601.0           20533  179.80  21532     999   \n",
       "1         361.0    63.0    1440.0           16663  134.85  19237    2574   \n",
       "2         199.0   131.0    1029.0           10299  119.35  13727    3428   \n",
       "3         269.0    58.0    1653.0           15884   71.30  18460    2576   \n",
       "4         298.0    63.0    1181.0           15870  125.55  16658     788   \n",
       "...         ...     ...       ...             ...     ...    ...     ...   \n",
       "8057      288.0    24.0     797.0           21194   91.00  22347    1153   \n",
       "8058      231.0    41.0    1166.0           20300   70.00  21294     994   \n",
       "8059      234.0    39.0    1713.0           21828  171.00  22767     939   \n",
       "8060      335.0    69.0    1050.0           13040  117.00  13879     839   \n",
       "8061      200.0   186.0    2115.0           11321  136.00  12109     788   \n",
       "\n",
       "      Cholesterol  Tryglicerides  Albumin  ...  Symptom_Score  Stage  Drug  \\\n",
       "0           316.0           63.0     3.35  ...              1      2     1   \n",
       "1           364.0           88.0     3.54  ...              1      2     0   \n",
       "2           299.0           50.0     3.55  ...              3      3     0   \n",
       "3           256.0           96.0     3.50  ...              1      2     0   \n",
       "4           346.0           96.0     3.65  ...              2      3     0   \n",
       "...           ...            ...      ...  ...            ...    ...   ...   \n",
       "8057        246.0          113.0     3.58  ...              2      1     1   \n",
       "8058        260.0           82.0     2.75  ...              1      1     0   \n",
       "8059        434.0          100.0     3.35  ...              1      1     1   \n",
       "8060        247.0           88.0     3.16  ...              1      1     1   \n",
       "8061        576.0          149.0     3.79  ...              2      1     0   \n",
       "\n",
       "      Hepatomegaly  Spiders  Sex  Edema_N  Edema_S  Edema_Y  Status  \n",
       "0                0        0    1        1        0        0       2  \n",
       "1                0        0    0        1        0        0       0  \n",
       "2                1        1    0        0        0        1       2  \n",
       "3                0        0    0        1        0        0       0  \n",
       "4                1        0    0        1        0        0       0  \n",
       "...            ...      ...  ...      ...      ...      ...     ...  \n",
       "8057             1        0    0        1        0        0       0  \n",
       "8058             0        0    0        1        0        0       0  \n",
       "8059             0        0    0        1        0        0       0  \n",
       "8060             0        0    0        1        0        0       0  \n",
       "8061             0        1    0        1        0        0       0  \n",
       "\n",
       "[8062 rows x 22 columns]"
      ]
     },
     "execution_count": 7,
     "metadata": {},
     "output_type": "execute_result"
    }
   ],
   "source": [
    "df_train_final"
   ]
  },
  {
   "cell_type": "code",
   "execution_count": null,
   "id": "3c855b8d",
   "metadata": {},
   "outputs": [],
   "source": [
    "# conda install -c conda-forge catboost"
   ]
  },
  {
   "cell_type": "code",
   "execution_count": null,
   "id": "44018194",
   "metadata": {},
   "outputs": [],
   "source": [
    "# pip install lightgbm"
   ]
  },
  {
   "cell_type": "code",
   "execution_count": null,
   "id": "901e9b93",
   "metadata": {},
   "outputs": [],
   "source": [
    "# pip install cmake"
   ]
  },
  {
   "cell_type": "code",
   "execution_count": null,
   "id": "8a64db85",
   "metadata": {},
   "outputs": [],
   "source": [
    "# pip install --upgrade pip"
   ]
  },
  {
   "cell_type": "code",
   "execution_count": null,
   "id": "cd86cabb",
   "metadata": {},
   "outputs": [],
   "source": [
    "# import lightgbm"
   ]
  },
  {
   "cell_type": "code",
   "execution_count": null,
   "id": "1014c86a",
   "metadata": {},
   "outputs": [],
   "source": [
    "# conda install lightgbm"
   ]
  },
  {
   "cell_type": "code",
   "execution_count": null,
   "id": "4765cce8",
   "metadata": {},
   "outputs": [],
   "source": [
    "# pip install optuna"
   ]
  },
  {
   "cell_type": "markdown",
   "id": "54a0a9c5",
   "metadata": {},
   "source": [
    "# Best params"
   ]
  },
  {
   "cell_type": "markdown",
   "id": "b90be7c8",
   "metadata": {},
   "source": [
    "## XGBoost"
   ]
  },
  {
   "cell_type": "code",
   "execution_count": 8,
   "id": "0bfff91c",
   "metadata": {},
   "outputs": [],
   "source": [
    "# xgb_classifier = xgb.XGBClassifier()\n",
    "\n",
    "X = df_train_final[FEATS]\n",
    "y = df_train_final[LABEL]\n",
    "\n",
    "def objective_xgb(trial):\n",
    "    xgb_params = {\n",
    "        'n_estimators': trial.suggest_int('n_estimators', 300,750),\n",
    "        'max_depth': trial.suggest_int('max_depth', 3, 50),\n",
    "        'min_child_weight': trial.suggest_float('min_child_weight', 2,50),\n",
    "        'learning_rate': trial.suggest_float('learning_rate', 1e-4, 0.2, log = True),\n",
    "        'subsample': trial.suggest_float('subsample', 0.2, 1),\n",
    "        'gamma': trial.suggest_float('gamma', 1e-4, 1.0),\n",
    "        'colsample_bytree': trial.suggest_float('colsample_bytree',0.2,1),\n",
    "        'colsample_bylevel': trial.suggest_float('colsample_bylevel',0.2,1),\n",
    "        'colsample_bynode': trial.suggest_float('colsample_bynode', 0.2, 1)\n",
    "    }\n",
    "    \n",
    "    xgb_optuna = xgb.XGBClassifier(**xgb_params, random_state= 42, n_jobs=-1)\n",
    "    \n",
    "    cv = abs(cross_val_score(xgb_optuna, X, y, cv=4,scoring=\"neg_log_loss\").mean())\n",
    "    \n",
    "    return cv"
   ]
  },
  {
   "cell_type": "code",
   "execution_count": null,
   "id": "747ce565",
   "metadata": {},
   "outputs": [],
   "source": [
    "# %%time\n",
    "# study = optuna.create_study(direction='minimize')\n",
    "# study.optimize(objective_xgb, n_trials=100, timeout=2000)\n",
    "# study.best_params"
   ]
  },
  {
   "cell_type": "code",
   "execution_count": null,
   "id": "36c0ef69",
   "metadata": {},
   "outputs": [],
   "source": [
    "# xgb best params\n",
    "\n",
    "# {'n_estimators': 321,\n",
    "#  'max_depth': 22,\n",
    "#  'min_child_weight': 11.070726747842205,\n",
    "#  'learning_rate': 0.04183999030897231,\n",
    "#  'subsample': 0.8147003967290872,\n",
    "#  'gamma': 0.24787119264200683,\n",
    "#  'colsample_bytree': 0.497495857794794,\n",
    "#  'colsample_bylevel': 0.3135559715722269,\n",
    "#  'colsample_bynode': 0.871417488685748}\n",
    "\n",
    "\n",
    "#lgb best params\n",
    "# lgb_params = \n",
    "# {'n_estimators': 167,\n",
    "#  'max_depth': 33,\n",
    "#  'learning_rate': 0.035587236958871754,\n",
    "#  'reg_alpha': 0.0063702400826607455,\n",
    "#  'reg_lambda': 0.003622601223698469,\n",
    "#  'min_child_weight': 0.5324716296617535,\n",
    "#  'min_child_samples': 86,\n",
    "#  'subsample': 0.6322679072761366,\n",
    "#  'subsample_freq': 5,\n",
    "#  'colsample_bytree': 0.2575403028982689,\n",
    "#  'num_leaves': 34}\n",
    "\n",
    "\n",
    "# catboost best params\n",
    "# {'iterations': 440,\n",
    "#  'depth': 8,\n",
    "#  'min_data_in_leaf': 37,\n",
    "#  'learning_rate': 0.066811646968983,\n",
    "#  'random_strength': 0.10809515336656547}"
   ]
  },
  {
   "cell_type": "markdown",
   "id": "6692a3ed",
   "metadata": {},
   "source": [
    "## Catboost"
   ]
  },
  {
   "cell_type": "code",
   "execution_count": 10,
   "id": "dccc3d04",
   "metadata": {},
   "outputs": [],
   "source": [
    "from catboost import CatBoostClassifier\n",
    "\n",
    "X = df_train_final[FEATS]\n",
    "y = df_train_final[LABEL]\n",
    "\n",
    "def objective_cat(trial):\n",
    "    cat_params = {\n",
    "    'iterations': trial.suggest_int('iterations', 100,600),\n",
    "    'depth': trial.suggest_int('depth', 3, 50),\n",
    "    'min_data_in_leaf': trial.suggest_int('min_data_in_leaf', 2,50),\n",
    "    'learning_rate': trial.suggest_float('learning_rate', 1e-4, 0.2, log = True),\n",
    "#     'subsample': trial.suggest_float('subsample', 0.2, 1),\n",
    "    #'rsm': trial.suggest_float('rsm',0.2,1),\n",
    "    'random_strength':trial.suggest_float('random_strength', 5e-3, 0.3)\n",
    "    }\n",
    "    cb_optuna = CatBoostClassifier(**cat_params, random_state = 42, \n",
    "                                   grow_policy = 'Lossguide', \n",
    "                                   #allow_writing_files=False\n",
    "                                  )\n",
    "\n",
    "    cv = abs(cross_val_score(cb_optuna, X, y, cv = 4,scoring='neg_log_loss').mean())\n",
    "    return cv"
   ]
  },
  {
   "cell_type": "markdown",
   "id": "ee2f5267",
   "metadata": {},
   "source": [
    "Sorry for such a long answer. The error message means that you've possibly set subsample=XXX parameter somewhere (or that you trigger some bug 😄)\n",
    "By now, Bayesian bootstrap is fully supported both on CPU and GPU and it's default bootstrap for GPU. Provided code snippet works just fine on my data.\n",
    "So, please, can you reopen this issue if problem still occurs on your data and send us a code snippet for problem reproduction?"
   ]
  },
  {
   "cell_type": "code",
   "execution_count": null,
   "id": "93d9ea0a",
   "metadata": {},
   "outputs": [],
   "source": [
    "%%time\n",
    "study = optuna.create_study(direction='minimize')\n",
    "study.optimize(objective_cat, n_trials=50, timeout=1000)\n",
    "study.best_params"
   ]
  },
  {
   "cell_type": "markdown",
   "id": "7659037d",
   "metadata": {},
   "source": [
    "## LGBM"
   ]
  },
  {
   "cell_type": "code",
   "execution_count": 11,
   "id": "b6ac3d38",
   "metadata": {},
   "outputs": [],
   "source": [
    "import optuna\n",
    "def objective(trial):\n",
    "    lgb_params = {\n",
    "        'n_estimators' : trial.suggest_int('n_estimators',50,500),\n",
    "        \"max_depth\":trial.suggest_int('max_depth',3,50),\n",
    "        \"learning_rate\" : trial.suggest_float('learning_rate',1e-4, 0.25, log=True),\n",
    "        'reg_alpha': trial.suggest_loguniform('reg_alpha', 1e-3, 10.0),\n",
    "        'reg_lambda': trial.suggest_loguniform('reg_lambda', 1e-3, 10.0),\n",
    "        \"min_child_weight\" : trial.suggest_float('min_child_weight', 0.5,4),\n",
    "        \"min_child_samples\" : trial.suggest_int('min_child_samples',1,100),\n",
    "        \"subsample\" : trial.suggest_float('subsample', 0.4, 1),\n",
    "        \"subsample_freq\" : trial.suggest_int('subsample_freq',0,5),\n",
    "        \"colsample_bytree\" : trial.suggest_float('colsample_bytree',0.2,1),\n",
    "        'num_leaves' : trial.suggest_int('num_leaves', 2, 64),\n",
    "    }\n",
    "    lgbmmodel_optuna = lgb.LGBMClassifier(**lgb_params, random_state=42)\n",
    "    cv = abs(cross_val_score(lgbmmodel_optuna, X, y, cv = 4,scoring='neg_log_loss').mean())\n",
    "    return cv"
   ]
  },
  {
   "cell_type": "code",
   "execution_count": null,
   "id": "5edb133a",
   "metadata": {},
   "outputs": [],
   "source": [
    "%%time\n",
    "study = optuna.create_study(direction='minimize')\n",
    "study.optimize(objective, n_trials=50, timeout=2000)"
   ]
  },
  {
   "cell_type": "code",
   "execution_count": null,
   "id": "ad3d31b5",
   "metadata": {},
   "outputs": [],
   "source": [
    "study.best_params"
   ]
  },
  {
   "cell_type": "markdown",
   "id": "acd6d322",
   "metadata": {},
   "source": [
    "# Baseline Model"
   ]
  },
  {
   "cell_type": "code",
   "execution_count": 13,
   "id": "65601eb9",
   "metadata": {},
   "outputs": [],
   "source": [
    "# len(X_train), len(X_val)"
   ]
  },
  {
   "cell_type": "code",
   "execution_count": 14,
   "id": "2f64b6cf",
   "metadata": {},
   "outputs": [],
   "source": [
    "X = df_train_final[FEATS]\n",
    "y = df_train_final[[LABEL]]\n",
    "\n",
    "X_train, X_val, y_train, y_val = train_test_split(X,y,test_size=0.2, random_state=42)"
   ]
  },
  {
   "cell_type": "code",
   "execution_count": 15,
   "id": "6e01e1a1",
   "metadata": {},
   "outputs": [],
   "source": [
    "def validate_models(models,\n",
    "                    data: pd.DataFrame, \n",
    "                    label=LABEL,\n",
    "                    n_splits=5,\n",
    "                    n_repeats=1,\n",
    "                    seed=43):\n",
    "    train_scores, val_scores = {}, {}\n",
    "    \n",
    "    pbar = tqdm(models)\n",
    "    for model in pbar:\n",
    "        model_str = model[\"name\"]\n",
    "        model_est = model[\"model\"]\n",
    "        model_feats = model[\"feats\"]\n",
    "        \n",
    "        pbar.set_description(f\"Processing {model_str}...\")\n",
    "        \n",
    "        train_scores[model_str] = []\n",
    "        val_scores[model_str] = []\n",
    "        skf = RepeatedStratifiedKFold(n_splits=n_splits, n_repeats=n_repeats, random_state=seed)\n",
    "\n",
    "        for i, (train_idx, val_idx) in enumerate(skf.split(data[model_feats], data[label])):\n",
    "            pbar.set_postfix_str(f\"Fold {i+1}/{n_splits}\")\n",
    "            \n",
    "            X_train, y_train = data[model_feats].loc[train_idx], data[label].loc[train_idx]\n",
    "            X_val, y_val = data[model_feats].loc[val_idx], data[label].loc[val_idx]\n",
    "            \n",
    "            if model_str in [\"lgb_cl\"]:\n",
    "                callbacks = [lgb.early_stopping(stopping_rounds=50), lgb.log_evaluation(period=0)]\n",
    "                model_est.fit(X_train, y_train, eval_set=[(X_val, y_val)], callbacks=callbacks)\n",
    "            elif model_str in [\"xgb_cl\", \"cat_cl\"]:\n",
    "                model_est.fit(X_train, y_train, eval_set=[(X_val, y_val)], verbose=0)\n",
    "            elif model_str in [\"voting_clf\"]:\n",
    "                pass # TODO: find a solution\n",
    "            else:\n",
    "                model_est.fit(X_train, y_train)\n",
    "                \n",
    "            train_preds = model_est.predict_proba(X_train[model_feats])\n",
    "            valid_preds = model_est.predict_proba(X_val[model_feats])\n",
    "            train_score = log_loss(y_train, train_preds)\n",
    "            val_score = log_loss(y_val, valid_preds)\n",
    "            train_scores[model_str].append(train_score)\n",
    "            val_scores[model_str].append(val_score)\n",
    "            \n",
    "            #print(f\"{model_str} | Fold {i + 1} | \" +\n",
    "            #      f\"Train log_loss: {round(train_score, 4)} | \" +\n",
    "            #      f\"Valid log_loss: {round(val_score, 4)}\")\n",
    "        \n",
    "        model[\"avg_val_score\"] = np.mean(val_scores[model_str])\n",
    "            \n",
    "    return models, pd.DataFrame(train_scores), pd.DataFrame(val_scores)"
   ]
  },
  {
   "cell_type": "code",
   "execution_count": null,
   "id": "8ac874cf",
   "metadata": {},
   "outputs": [],
   "source": []
  },
  {
   "cell_type": "markdown",
   "id": "f7e38f8c",
   "metadata": {},
   "source": [
    "## Xgboost"
   ]
  },
  {
   "cell_type": "code",
   "execution_count": null,
   "id": "f54a51c8",
   "metadata": {},
   "outputs": [],
   "source": [
    "xgb_baseline = xgb.XGBClassifier()\n",
    "\n",
    "xgb_baseline.fit(X_train, y_train)\n",
    "y_val_pred = xgb_baseline.predict(X_val)"
   ]
  },
  {
   "cell_type": "code",
   "execution_count": null,
   "id": "78d30388",
   "metadata": {},
   "outputs": [],
   "source": [
    "acc_xgb = accuracy_score(y_val, y_val_pred)\n",
    "print(\"Accuracy:\",acc_xgb)\n",
    "cr_xgb=classification_report(y_val, y_val_pred)\n",
    "print(\"Classification report:\\n\",cr_xgb)"
   ]
  },
  {
   "cell_type": "code",
   "execution_count": null,
   "id": "f765ddb4",
   "metadata": {},
   "outputs": [],
   "source": [
    "xgb_baseline_score = cross_val_score(xgb_baseline, X, y, scoring=\"neg_log_loss\", cv=10)"
   ]
  },
  {
   "cell_type": "code",
   "execution_count": null,
   "id": "93b98cdb",
   "metadata": {},
   "outputs": [],
   "source": [
    "pd.Series(xgb_baseline_score).describe()"
   ]
  },
  {
   "cell_type": "code",
   "execution_count": null,
   "id": "516a860a",
   "metadata": {},
   "outputs": [],
   "source": [
    "len(X_train)"
   ]
  },
  {
   "cell_type": "code",
   "execution_count": null,
   "id": "f30485de",
   "metadata": {},
   "outputs": [],
   "source": [
    "# train_sizes = [200, 500, 2000, 5000, 6449]\n",
    "\n",
    "# xgbbase_train_sizes, xgbbase_train_scores, xgbbase_val_scores = learning_curve(\n",
    "#     xgb_baseline, \n",
    "#     X = X, \n",
    "#     y = y, \n",
    "#     train_sizes=train_sizes, \n",
    "#     scoring=\"neg_log_loss\", cv=5)"
   ]
  },
  {
   "cell_type": "code",
   "execution_count": null,
   "id": "aaaac5a3",
   "metadata": {},
   "outputs": [],
   "source": []
  },
  {
   "cell_type": "code",
   "execution_count": null,
   "id": "4f741bc2",
   "metadata": {},
   "outputs": [],
   "source": [
    "# parameter_range = np.arange(1, 10, 1)\n",
    "\n",
    "\n",
    "# xgbbase_train_scores, xgbbase_val_scores = validation_curve(\n",
    "#     xgb_baseline, \n",
    "#     X = X, \n",
    "#     y = y, \n",
    "#     scoring=\"neg_log_loss\", cv=5)"
   ]
  },
  {
   "cell_type": "code",
   "execution_count": null,
   "id": "c27539a5",
   "metadata": {},
   "outputs": [],
   "source": [
    "xgbbase_train_scores"
   ]
  },
  {
   "cell_type": "code",
   "execution_count": null,
   "id": "f0d1f893",
   "metadata": {},
   "outputs": [],
   "source": [
    "xgbbase_val_scores"
   ]
  },
  {
   "cell_type": "code",
   "execution_count": null,
   "id": "c11306af",
   "metadata": {},
   "outputs": [],
   "source": [
    "df_train_final"
   ]
  },
  {
   "cell_type": "markdown",
   "id": "d9de9f88",
   "metadata": {},
   "source": [
    "# After final tuning"
   ]
  },
  {
   "cell_type": "markdown",
   "id": "f39ec98d",
   "metadata": {},
   "source": [
    "## XGBoost:"
   ]
  },
  {
   "cell_type": "code",
   "execution_count": 16,
   "id": "e36da03f",
   "metadata": {},
   "outputs": [
    {
     "name": "stderr",
     "output_type": "stream",
     "text": [
      "Processing xgb_cl...: 100%|███████████| 1/1 [00:28<00:00, 28.23s/it, Fold 10/10]"
     ]
    },
    {
     "name": "stdout",
     "output_type": "stream",
     "text": [
      "CPU times: user 3min 19s, sys: 4.37 s, total: 3min 23s\n",
      "Wall time: 28.3 s\n"
     ]
    },
    {
     "name": "stderr",
     "output_type": "stream",
     "text": [
      "\n"
     ]
    }
   ],
   "source": [
    "%%time\n",
    "\n",
    "xgb_params = {'n_estimators': 321,\n",
    "              'max_depth': 22,\n",
    "              'min_child_weight': 11.070726747842205,\n",
    "              'learning_rate': 0.04183999030897231,\n",
    "              'subsample': 0.8147003967290872,\n",
    "              'gamma': 0.24787119264200683,\n",
    "              'colsample_bytree': 0.497495857794794,\n",
    "              'colsample_bylevel': 0.3135559715722269,\n",
    "              'colsample_bynode': 0.871417488685748}\n",
    "\n",
    "xgb_cl = xgb.XGBClassifier(**xgb_params)\n",
    "models = [\n",
    "    {\"name\": \"xgb_cl\", \"model\": xgb_cl, \"feats\": FEATS},\n",
    "]\n",
    "models, train_scores, val_scores = validate_models(models=models, \n",
    "                                                   data=df_train_final, \n",
    "                                                   n_splits=10,\n",
    "                                                   n_repeats=1)"
   ]
  },
  {
   "cell_type": "code",
   "execution_count": null,
   "id": "c96005f5",
   "metadata": {},
   "outputs": [],
   "source": [
    "\n",
    "fig, axes = plt.subplots(1, 2, figsize=(15, 6))\n",
    "\n",
    "eps = .05\n",
    "hl = .4\n",
    "min_score = train_scores.min().min()-eps\n",
    "max_score = val_scores.max().max()+eps\n",
    "\n",
    "def calculate_ticks(min_score, max_score, num_ticks=10):\n",
    "    return np.linspace(min_score, max_score, num_ticks)\n",
    "\n",
    "ticks = calculate_ticks(min_score, max_score)\n",
    "\n",
    "_ = sns.boxplot(train_scores, ax=axes[0])\n",
    "_ = axes[0].set_title('Train Scores')\n",
    "_ = axes[0].set_ylim(min_score, max_score)\n",
    "_ = axes[0].set_yticks(ticks)\n",
    "_ = axes[0].yaxis.grid(True)\n",
    "_ = axes[0].axhline(y=0.4, color='r', linestyle='--', lw=.7)\n",
    "_ = axes[0].text(-1, hl, f\"{hl}\", c=\"red\")\n",
    "\n",
    "_ = sns.boxplot(val_scores, ax=axes[1])\n",
    "_ = axes[1].set_title('Validation Scores')\n",
    "_ = axes[1].set_ylim(min_score, max_score)\n",
    "_ = axes[1].set_yticks(ticks)\n",
    "_ = axes[1].yaxis.grid(True)\n",
    "_ = axes[1].axhline(y=0.4, color='r', linestyle='--', lw=.7)\n",
    "_ = axes[1].text(-1, hl, f\"{hl}\", c=\"red\")"
   ]
  },
  {
   "cell_type": "code",
   "execution_count": null,
   "id": "d0b02e2f",
   "metadata": {},
   "outputs": [],
   "source": [
    "# Print results in DataFrame\n",
    "model_res = pd.concat([train_scores.describe(), val_scores.describe()], axis=1)\n",
    "model_res.columns = ['Train', 'Validation']\n",
    "print(model_res)\n",
    "\n",
    "# Plot results as lineplot\n",
    "_ = sns.lineplot(pd.concat([train_scores, val_scores], keys=[\"Train Score\", \"Validation Score\"], axis=1), markers=True, dashes=False)\n",
    "plt.axhline(y=0.4, color='r', linestyle='--', lw=.5)\n",
    "plt.title('Train vs Validation Scores')\n",
    "plt.grid()\n",
    "plt.xlabel('Index')\n",
    "plt.ylabel('Scores')\n",
    "plt.show()"
   ]
  },
  {
   "cell_type": "code",
   "execution_count": null,
   "id": "4c24e30e",
   "metadata": {},
   "outputs": [],
   "source": [
    "display(train_scores), display(val_scores)"
   ]
  },
  {
   "cell_type": "code",
   "execution_count": null,
   "id": "19aef6bb",
   "metadata": {},
   "outputs": [],
   "source": [
    "# n_splits = pd.DataFrame()"
   ]
  },
  {
   "cell_type": "code",
   "execution_count": null,
   "id": "f55452a5",
   "metadata": {},
   "outputs": [],
   "source": [
    "# xgb_total_scores.columns"
   ]
  },
  {
   "cell_type": "code",
   "execution_count": null,
   "id": "249e4a8e",
   "metadata": {},
   "outputs": [],
   "source": [
    "# import seaborn as sns\n",
    "# import pandas as pd\n",
    "\n",
    "# # Example data (replace this with your actual data)\n",
    "# data = {\n",
    "#     'Category': ['A', 'B', 'C', 'D'],  # Categories\n",
    "#     'Segment1': [10, 15, 12, 8],        # Values for the first segment\n",
    "#     'Segment2': [5, 8, 10, 6]           # Values for the second segment\n",
    "# }\n",
    "\n",
    "# # Create DataFrame\n",
    "# df = pd.DataFrame(data)\n",
    "\n",
    "# # Melt the DataFrame to long format\n",
    "# df_melted = df.melt(id_vars='Category', var_name='Segment', value_name='Value')\n",
    "\n",
    "# # Create stacked barplot\n",
    "# sns.barplot(x='Category', y='Value', hue='Segment', data=df_melted, palette='muted')\n"
   ]
  },
  {
   "cell_type": "code",
   "execution_count": null,
   "id": "1963ff31",
   "metadata": {},
   "outputs": [],
   "source": [
    "xgb_total_scores"
   ]
  },
  {
   "cell_type": "code",
   "execution_count": null,
   "id": "ef03d42d",
   "metadata": {},
   "outputs": [],
   "source": [
    "xgb_train_scores, xgb_val_scores = train_scores, val_scores\n",
    "xgb_total_scores = pd.concat([xgb_train_scores, xgb_val_scores],axis=1)\n",
    "# mapping = {xgb_total_scores.columns[0]: \"Train scores\", xgb_total_scores.columns[1]: \"Val scores\"}\n",
    "# xgb_total_scores.rename(columns=mapping, inplace=True)\n",
    "xgb_total_scores.columns.values[0] = \"Train scores\"\n",
    "xgb_total_scores.columns.values[1] = \"Val scores\"\n",
    "data_x_label = {\"split\": np.arange(1,11).tolist()}\n",
    "data_x_label_df = pd.DataFrame(data_x_label)\n",
    "xgb_total_scores = pd.concat([xgb_total_scores, data_x_label_df], axis=1)\n",
    "xgb_total_scores\n",
    "\n",
    "sns.barplot(x= \"split\", y=\"Val scores\", data=xgb_total_scores, \n",
    "            label= \"Val scores\", color='orange',bottom=0,alpha=0.7)\n",
    "sns.barplot(x= \"split\", y=\"Train scores\", data=xgb_total_scores, \n",
    "            label= \"Train scores\", color='blue',edgecolor='orange', alpha=0.7)\n",
    "plt.grid()\n",
    "plt.ylim(0.2, 0.55)\n",
    "plt.ylabel(\"Total Scores\")\n",
    "plt.legend()\n",
    "plt.show()"
   ]
  },
  {
   "cell_type": "code",
   "execution_count": null,
   "id": "cabfded3",
   "metadata": {},
   "outputs": [],
   "source": []
  },
  {
   "cell_type": "code",
   "execution_count": null,
   "id": "beb38509",
   "metadata": {},
   "outputs": [],
   "source": []
  },
  {
   "cell_type": "code",
   "execution_count": null,
   "id": "d95e1804",
   "metadata": {},
   "outputs": [],
   "source": []
  },
  {
   "cell_type": "code",
   "execution_count": 17,
   "id": "c24fd098",
   "metadata": {},
   "outputs": [
    {
     "name": "stdout",
     "output_type": "stream",
     "text": [
      "Accuracy: 0.8295102293862369\n",
      "Classification report:\n",
      "               precision    recall  f1-score   support\n",
      "\n",
      "           0       0.86      0.91      0.88      1033\n",
      "           1       0.64      0.16      0.25        58\n",
      "           2       0.77      0.74      0.76       522\n",
      "\n",
      "    accuracy                           0.83      1613\n",
      "   macro avg       0.76      0.60      0.63      1613\n",
      "weighted avg       0.82      0.83      0.82      1613\n",
      "\n"
     ]
    }
   ],
   "source": [
    "xgb_final_tuning = xgb.XGBClassifier(**xgb_params)\n",
    "\n",
    "xgb_final_tuning.fit(X_train, y_train)\n",
    "y_val_pred = xgb_final_tuning.predict(X_val)\n",
    "acc_xgb = accuracy_score(y_val, y_val_pred)\n",
    "print(\"Accuracy:\",acc_xgb)\n",
    "cr_xgb=classification_report(y_val, y_val_pred)\n",
    "print(\"Classification report:\\n\",cr_xgb)"
   ]
  },
  {
   "cell_type": "code",
   "execution_count": 18,
   "id": "f9d3c156",
   "metadata": {},
   "outputs": [],
   "source": [
    "label_encoder = LabelEncoder()"
   ]
  },
  {
   "cell_type": "code",
   "execution_count": 19,
   "id": "1a420602",
   "metadata": {},
   "outputs": [
    {
     "data": {
      "image/png": "[encoded data removed]",
      "text/plain": [
       "<Figure size 640x480 with 2 Axes>"
      ]
     },
     "metadata": {},
     "output_type": "display_data"
    }
   ],
   "source": [
    "y_hat = xgb_cl.predict(df_train_final[FEATS])\n",
    "ConfusionMatrixDisplay.from_predictions(df_train_final[LABEL], y_hat, normalize='true', display_labels=['C','CL','D'])\n",
    "plt.show()"
   ]
  },
  {
   "cell_type": "code",
   "execution_count": 20,
   "id": "3d7607de",
   "metadata": {},
   "outputs": [
    {
     "data": {
      "image/png": "[encoded data removed]",
      "text/plain": [
       "<Figure size 640x480 with 2 Axes>"
      ]
     },
     "metadata": {},
     "output_type": "display_data"
    }
   ],
   "source": [
    "cm_xgb = confusion_matrix(y_val, y_val_pred, labels=xgb_final_tuning.classes_)\n",
    "disp_xgb = ConfusionMatrixDisplay(confusion_matrix=cm_xgb,\n",
    "                                  display_labels=xgb_final_tuning.classes_)\n",
    "disp_xgb.plot()\n",
    "plt.show()"
   ]
  },
  {
   "cell_type": "code",
   "execution_count": 21,
   "id": "f2c0e698",
   "metadata": {},
   "outputs": [
    {
     "data": {
      "image/png": "[encoded data removed]",
      "text/plain": [
       "<Figure size 1500x600 with 1 Axes>"
      ]
     },
     "metadata": {},
     "output_type": "display_data"
    },
    {
     "name": "stdout",
     "output_type": "stream",
     "text": [
      "Total sorted XGBClassifier importances: ['Edema_Y', 'Edema_N', 'Hepatomegaly', 'Bilirubin', 'Symptom_Score', 'N_Days', 'Stage', 'Copper', 'Prothrombin', 'Spiders', 'SGOT', 'Alk_Phos', 'Sex', 'Age', 'Diagnosis_Date', 'Platelets', 'Cholesterol', 'Albumin', 'Edema_S', 'Tryglicerides', 'Drug']\n"
     ]
    }
   ],
   "source": [
    "xgb_feat_importances = pd.Series(xgb_cl.feature_importances_, index=df_train_final[FEATS].columns)\n",
    "\n",
    "# Plotting both feature importances in subplots\n",
    "fig, axes = plt.subplots(1, 1, figsize=(15, 6))\n",
    "\n",
    "xgb_feat_importances.nlargest(20).plot(kind='barh', title='XGB Feature Importances')\n",
    "\n",
    "plt.tight_layout()\n",
    "plt.show()\n",
    "print(f\"Total sorted XGBClassifier importances: {xgb_feat_importances.nlargest(99).index.tolist()}\")"
   ]
  },
  {
   "cell_type": "markdown",
   "id": "4e241538",
   "metadata": {},
   "source": [
    "### Save the model into pickle file"
   ]
  },
  {
   "cell_type": "code",
   "execution_count": 23,
   "id": "63e53779",
   "metadata": {},
   "outputs": [],
   "source": [
    "# import pickle\n",
    "\n",
    "with open('xgb_model.pkl', 'wb') as f:\n",
    "    pickle.dump(xgb_final_tuning, f)"
   ]
  },
  {
   "cell_type": "code",
   "execution_count": 24,
   "id": "f5832aca",
   "metadata": {},
   "outputs": [],
   "source": [
    "# with open('xgb_model.pkl', 'rb') as f:\n",
    "#     model = pickle.load(f)"
   ]
  },
  {
   "cell_type": "markdown",
   "id": "4a701b90",
   "metadata": {},
   "source": [
    "## Catboost"
   ]
  },
  {
   "cell_type": "code",
   "execution_count": 27,
   "id": "51b02044",
   "metadata": {},
   "outputs": [],
   "source": [
    "from catboost import CatBoostClassifier, CatBoostRegressor"
   ]
  },
  {
   "cell_type": "code",
   "execution_count": 25,
   "id": "54024e1b",
   "metadata": {},
   "outputs": [
    {
     "name": "stderr",
     "output_type": "stream",
     "text": [
      "Processing cat_cl...: 100%|███████████| 1/1 [00:41<00:00, 41.14s/it, Fold 10/10]"
     ]
    },
    {
     "name": "stdout",
     "output_type": "stream",
     "text": [
      "CPU times: user 3min 25s, sys: 5.81 s, total: 3min 31s\n",
      "Wall time: 41.1 s\n"
     ]
    },
    {
     "name": "stderr",
     "output_type": "stream",
     "text": [
      "\n"
     ]
    }
   ],
   "source": [
    "%%time\n",
    "\n",
    "cat_params = {\n",
    "    'iterations': 440,\n",
    "     'depth': 8,\n",
    "     'min_data_in_leaf': 37,\n",
    "     'learning_rate': 0.066811646968983,\n",
    "     'random_strength': 0.10809515336656547\n",
    "}\n",
    "\n",
    "cat_cl = CatBoostClassifier(**cat_params)\n",
    "models = [\n",
    "    {\"name\": \"cat_cl\", \"model\": cat_cl, \"feats\": FEATS},\n",
    "]\n",
    "models, train_scores, val_scores = validate_models(models=models, \n",
    "                                                   data=df_train_final, \n",
    "                                                   n_splits=10,\n",
    "                                                   n_repeats=1)"
   ]
  },
  {
   "cell_type": "code",
   "execution_count": null,
   "id": "bcb697d9",
   "metadata": {},
   "outputs": [],
   "source": [
    "fig, axes = plt.subplots(1, 2, figsize=(15, 6))\n",
    "\n",
    "eps = .05\n",
    "hl = .4\n",
    "min_score = train_scores.min().min()-eps\n",
    "max_score = val_scores.max().max()+eps\n",
    "\n",
    "def calculate_ticks(min_score, max_score, num_ticks=10):\n",
    "    return np.linspace(min_score, max_score, num_ticks)\n",
    "\n",
    "ticks = calculate_ticks(min_score, max_score)\n",
    "\n",
    "_ = sns.boxplot(train_scores, ax=axes[0])\n",
    "_ = axes[0].set_title('Train Scores')\n",
    "_ = axes[0].set_ylim(min_score, max_score)\n",
    "_ = axes[0].set_yticks(ticks)\n",
    "_ = axes[0].yaxis.grid(True)\n",
    "_ = axes[0].axhline(y=0.4, color='r', linestyle='--', lw=.7)\n",
    "_ = axes[0].text(-1, hl, f\"{hl}\", c=\"red\")\n",
    "\n",
    "_ = sns.boxplot(val_scores, ax=axes[1])\n",
    "_ = axes[1].set_title('Validation Scores')\n",
    "_ = axes[1].set_ylim(min_score, max_score)\n",
    "_ = axes[1].set_yticks(ticks)\n",
    "_ = axes[1].yaxis.grid(True)\n",
    "_ = axes[1].axhline(y=0.4, color='r', linestyle='--', lw=.7)\n",
    "_ = axes[1].text(-1, hl, f\"{hl}\", c=\"red\")"
   ]
  },
  {
   "cell_type": "code",
   "execution_count": null,
   "id": "c6a2b1a4",
   "metadata": {},
   "outputs": [],
   "source": [
    "# Print results in DataFrame\n",
    "model_res = pd.concat([train_scores.describe(), val_scores.describe()], axis=1)\n",
    "model_res.columns = ['Train', 'Validation']\n",
    "print(model_res)\n",
    "\n",
    "# Plot results as lineplot\n",
    "_ = sns.lineplot(pd.concat([train_scores, val_scores], keys=[\"Train Score\", \"Validation Score\"], axis=1), markers=True, dashes=False)\n",
    "plt.axhline(y=0.4, color='r', linestyle='--', lw=.5)\n",
    "plt.title('Train vs Validation Scores')\n",
    "plt.grid()\n",
    "plt.xlabel('Index')\n",
    "plt.ylabel('Scores')\n",
    "plt.show()"
   ]
  },
  {
   "cell_type": "code",
   "execution_count": null,
   "id": "9f13e403",
   "metadata": {},
   "outputs": [],
   "source": [
    "cat_train_scores, cat_val_scores = train_scores, val_scores\n",
    "cat_total_scores = pd.concat([cat_train_scores, cat_val_scores],axis=1)\n",
    "\n",
    "cat_total_scores.columns.values[0] = \"Train scores\"\n",
    "cat_total_scores.columns.values[1] = \"Val scores\"\n",
    "\n",
    "cat_total_scores = pd.concat([cat_total_scores, data_x_label_df], axis=1)\n",
    "cat_total_scores\n",
    "\n",
    "sns.barplot(x= \"split\", y=\"Val scores\", data=cat_total_scores, \n",
    "            label= \"Val scores\", color='orange',bottom=0,alpha=0.7)\n",
    "sns.barplot(x= \"split\", y=\"Train scores\", data=cat_total_scores, \n",
    "            label= \"Train scores\", color='blue',edgecolor='orange', alpha=0.7)\n",
    "plt.grid()\n",
    "plt.ylim(0.2, 0.55)\n",
    "plt.ylabel(\"Total Scores\")\n",
    "plt.legend()\n",
    "plt.show()"
   ]
  },
  {
   "cell_type": "code",
   "execution_count": 28,
   "id": "c3e8cabb",
   "metadata": {
    "scrolled": true
   },
   "outputs": [
    {
     "ename": "NameError",
     "evalue": "name 'catboost' is not defined",
     "output_type": "error",
     "traceback": [
      "\u001b[0;31m---------------------------------------------------------------------------\u001b[0m",
      "\u001b[0;31mNameError\u001b[0m                                 Traceback (most recent call last)",
      "Cell \u001b[0;32mIn[28], line 1\u001b[0m\n\u001b[0;32m----> 1\u001b[0m cat_final_tuning \u001b[38;5;241m=\u001b[39m \u001b[43mcatboost\u001b[49m\u001b[38;5;241m.\u001b[39mCatBoostClassifier(\u001b[38;5;241m*\u001b[39m\u001b[38;5;241m*\u001b[39mcat_params)\n\u001b[1;32m      3\u001b[0m cat_final_tuning\u001b[38;5;241m.\u001b[39mfit(X_train, y_train)\n\u001b[1;32m      4\u001b[0m y_val_pred \u001b[38;5;241m=\u001b[39m cat_final_tuning\u001b[38;5;241m.\u001b[39mpredict(X_val)\n",
      "\u001b[0;31mNameError\u001b[0m: name 'catboost' is not defined"
     ]
    }
   ],
   "source": [
    "cat_final_tuning = catboost.CatBoostClassifier(**cat_params)\n",
    "\n",
    "cat_final_tuning.fit(X_train, y_train)\n",
    "y_val_pred = cat_final_tuning.predict(X_val)\n",
    "acc_cat = accuracy_score(y_val, y_val_pred)\n",
    "print(\"Accuracy:\",acc_cat)\n",
    "cr_cat=classification_report(y_val, y_val_pred)\n",
    "print(\"Classification report:\\n\",cr_cat)"
   ]
  },
  {
   "cell_type": "code",
   "execution_count": null,
   "id": "934ece1d",
   "metadata": {},
   "outputs": [],
   "source": [
    "y_hat = cat_cl.predict(df_train_final[FEATS])\n",
    "ConfusionMatrixDisplay.from_predictions(df_train_final[LABEL], y_hat, normalize='true', display_labels=['C','CL','D'])\n",
    "plt.show()"
   ]
  },
  {
   "cell_type": "code",
   "execution_count": null,
   "id": "e6dc336e",
   "metadata": {},
   "outputs": [],
   "source": [
    "cm_cat = confusion_matrix(y_val, y_val_pred, labels=cat_final_tuning.classes_)\n",
    "disp_cat = ConfusionMatrixDisplay(confusion_matrix=cm_cat,\n",
    "                                  display_labels=cat_final_tuning.classes_)\n",
    "disp_cat.plot()\n",
    "plt.show()"
   ]
  },
  {
   "cell_type": "code",
   "execution_count": null,
   "id": "d9f872d3",
   "metadata": {
    "scrolled": false
   },
   "outputs": [],
   "source": [
    "cat_feat_importances = pd.Series(cat_cl.feature_importances_, index=df_train_final[FEATS].columns)\n",
    "\n",
    "# Plotting both feature importances in subplots\n",
    "fig, axes = plt.subplots(1, 1, figsize=(15, 6))\n",
    "\n",
    "cat_feat_importances.nlargest(20).plot(kind='barh', title='CatBoost Feature Importances')\n",
    "\n",
    "plt.tight_layout()\n",
    "plt.show()\n",
    "print(f\"Total sorted XGBClassifier importances: {cat_feat_importances.nlargest(99).index.tolist()}\")"
   ]
  },
  {
   "cell_type": "markdown",
   "id": "2d7d405c",
   "metadata": {},
   "source": [
    "## Lgbm"
   ]
  },
  {
   "cell_type": "code",
   "execution_count": null,
   "id": "41621439",
   "metadata": {},
   "outputs": [],
   "source": [
    "%%time\n",
    "\n",
    "lgb_params = {\n",
    "    'n_estimators': 167,\n",
    "     'max_depth': 33,\n",
    "     'learning_rate': 0.035587236958871754,\n",
    "     'reg_alpha': 0.0063702400826607455,\n",
    "     'reg_lambda': 0.003622601223698469,\n",
    "     'min_child_weight': 0.5324716296617535,\n",
    "     'min_child_samples': 86,\n",
    "     'subsample': 0.6322679072761366,\n",
    "     'subsample_freq': 5,\n",
    "     'colsample_bytree': 0.2575403028982689,\n",
    "     'num_leaves': 34\n",
    "}\n",
    "\n",
    "lgb_cl = lgb.LGBMClassifier(**lgb_params)\n",
    "models = [\n",
    "    {\"name\": \"lgb_cl\", \"model\": lgb_cl, \"feats\": FEATS},\n",
    "]\n",
    "models, train_scores, val_scores = validate_models(models=models, \n",
    "                                                   data=df_train_final, \n",
    "                                                   n_splits=10,\n",
    "                                                   n_repeats=1)"
   ]
  },
  {
   "cell_type": "code",
   "execution_count": null,
   "id": "aa054442",
   "metadata": {},
   "outputs": [],
   "source": [
    "fig, axes = plt.subplots(1, 2, figsize=(15, 6))\n",
    "\n",
    "eps = .05\n",
    "hl = .4\n",
    "min_score = train_scores.min().min()-eps\n",
    "max_score = val_scores.max().max()+eps\n",
    "\n",
    "def calculate_ticks(min_score, max_score, num_ticks=10):\n",
    "    return np.linspace(min_score, max_score, num_ticks)\n",
    "\n",
    "ticks = calculate_ticks(min_score, max_score)\n",
    "\n",
    "_ = sns.boxplot(train_scores, ax=axes[0])\n",
    "_ = axes[0].set_title('Train Scores')\n",
    "_ = axes[0].set_ylim(min_score, max_score)\n",
    "_ = axes[0].set_yticks(ticks)\n",
    "_ = axes[0].yaxis.grid(True)\n",
    "_ = axes[0].axhline(y=0.4, color='r', linestyle='--', lw=.7)\n",
    "_ = axes[0].text(-1, hl, f\"{hl}\", c=\"red\")\n",
    "\n",
    "_ = sns.boxplot(val_scores, ax=axes[1])\n",
    "_ = axes[1].set_title('Validation Scores')\n",
    "_ = axes[1].set_ylim(min_score, max_score)\n",
    "_ = axes[1].set_yticks(ticks)\n",
    "_ = axes[1].yaxis.grid(True)\n",
    "_ = axes[1].axhline(y=0.4, color='r', linestyle='--', lw=.7)\n",
    "_ = axes[1].text(-1, hl, f\"{hl}\", c=\"red\")"
   ]
  },
  {
   "cell_type": "code",
   "execution_count": null,
   "id": "6f6f2c47",
   "metadata": {},
   "outputs": [],
   "source": [
    "# Print results in DataFrame\n",
    "model_res = pd.concat([train_scores.describe(), val_scores.describe()], axis=1)\n",
    "model_res.columns = ['Train', 'Validation']\n",
    "print(model_res)\n",
    "\n",
    "# Plot results as lineplot\n",
    "_ = sns.lineplot(pd.concat([train_scores, val_scores], keys=[\"Train Score\", \"Validation Score\"], axis=1), markers=True, dashes=False)\n",
    "plt.axhline(y=0.4, color='r', linestyle='--', lw=.5)\n",
    "plt.title('Train vs Validation Scores')\n",
    "plt.grid()\n",
    "plt.xlabel('Index')\n",
    "plt.ylabel('Scores')\n",
    "plt.show()"
   ]
  },
  {
   "cell_type": "code",
   "execution_count": null,
   "id": "eb2cc121",
   "metadata": {},
   "outputs": [],
   "source": [
    "lgb_train_scores, lgb_val_scores = train_scores, val_scores\n",
    "lgb_total_scores = pd.concat([lgb_train_scores, lgb_val_scores],axis=1)\n",
    "\n",
    "lgb_total_scores.columns.values[0] = \"Train scores\"\n",
    "lgb_total_scores.columns.values[1] = \"Val scores\"\n",
    "\n",
    "lgb_total_scores = pd.concat([lgb_total_scores, data_x_label_df], axis=1)\n",
    "lgb_total_scores\n",
    "\n",
    "sns.barplot(x= \"split\", y=\"Val scores\", data=lgb_total_scores, \n",
    "            label= \"Val scores\", color='orange',bottom=0,alpha=0.7)\n",
    "sns.barplot(x= \"split\", y=\"Train scores\", data=lgb_total_scores, \n",
    "            label= \"Train scores\", color='blue',edgecolor='orange', alpha=0.7)\n",
    "plt.grid()\n",
    "plt.ylim(0.2, 0.55)\n",
    "plt.ylabel(\"Total Scores\")\n",
    "plt.legend()\n",
    "plt.show()"
   ]
  },
  {
   "cell_type": "code",
   "execution_count": null,
   "id": "79345e96",
   "metadata": {},
   "outputs": [],
   "source": [
    "lgb_final_tuning = lightgbm.LGBMClassifier(**lgb_params)\n",
    "\n",
    "lgb_final_tuning.fit(X_train, y_train)\n",
    "y_val_pred = lgb_final_tuning.predict(X_val)\n",
    "acc_lgb = accuracy_score(y_val, y_val_pred)\n",
    "print(\"Accuracy:\",acc_lgb)\n",
    "cr_lgb=classification_report(y_val, y_val_pred)\n",
    "print(\"Classification report:\\n\",cr_lgb)"
   ]
  },
  {
   "cell_type": "code",
   "execution_count": null,
   "id": "59a8c251",
   "metadata": {},
   "outputs": [],
   "source": [
    "y_hat = lgb_cl.predict(df_train_final[FEATS])\n",
    "ConfusionMatrixDisplay.from_predictions(df_train_final[LABEL], y_hat, normalize='true', display_labels=['C','CL','D'])\n",
    "plt.show()"
   ]
  },
  {
   "cell_type": "code",
   "execution_count": null,
   "id": "f916f34b",
   "metadata": {},
   "outputs": [],
   "source": [
    "cm_lgb = confusion_matrix(y_val, y_val_pred, labels=lgb_final_tuning.classes_)\n",
    "disp_lgb = ConfusionMatrixDisplay(confusion_matrix=cm_lgb,\n",
    "                                  display_labels=lgb_final_tuning.classes_)\n",
    "disp_lgb.plot()\n",
    "plt.show()"
   ]
  },
  {
   "cell_type": "code",
   "execution_count": null,
   "id": "43ef5c65",
   "metadata": {},
   "outputs": [],
   "source": [
    "lgb_feat_importances = pd.Series(lgb_cl.feature_importances_, index=df_train_final[FEATS].columns)\n",
    "\n",
    "# Plotting both feature importances in subplots\n",
    "fig, axes = plt.subplots(1, 1, figsize=(15, 6))\n",
    "\n",
    "lgb_feat_importances.nlargest(20).plot(kind='barh', title='LightGBM Feature Importances')\n",
    "\n",
    "plt.tight_layout()\n",
    "plt.show()\n",
    "print(f\"Total sorted XGBClassifier importances: {lgb_feat_importances.nlargest(99).index.tolist()}\")"
   ]
  },
  {
   "cell_type": "code",
   "execution_count": null,
   "id": "b60fde92",
   "metadata": {},
   "outputs": [],
   "source": []
  }
 ],
 "metadata": {
  "kernelspec": {
   "display_name": "cirrhosis",
   "language": "python",
   "name": "python3"
  },
  "language_info": {
   "codemirror_mode": {
    "name": "ipython",
    "version": 3
   },
   "file_extension": ".py",
   "mimetype": "text/x-python",
   "name": "python",
   "nbconvert_exporter": "python",
   "pygments_lexer": "ipython3",
   "version": "3.9.0"
  }
 },
 "nbformat": 4,
 "nbformat_minor": 5
}
